{
  "nbformat": 4,
  "nbformat_minor": 0,
  "metadata": {
    "colab": {
      "name": "FourrierNeuralNet2.ipynb",
      "provenance": [],
      "collapsed_sections": [],
      "authorship_tag": "ABX9TyMTi3LwGzH3K9z1BYkgupGC"
    },
    "kernelspec": {
      "name": "python3",
      "display_name": "Python 3"
    },
    "accelerator": "GPU"
  },
  "cells": [
    {
      "cell_type": "markdown",
      "metadata": {
        "id": "7uL7ALJfaHAq"
      },
      "source": [
        "Load libs and utilities. "
      ]
    },
    {
      "cell_type": "code",
      "metadata": {
        "id": "xk7fUOkRQZdJ",
        "colab": {
          "base_uri": "https://localhost:8080/"
        },
        "outputId": "95f52567-d88c-44b5-ef7e-8fdc2a3f3abd"
      },
      "source": [
        "!pip install -U -q PyDrive\n",
        "\n",
        "from pydrive.auth import GoogleAuth\n",
        "from pydrive.drive import GoogleDrive\n",
        "from google.colab import auth\n",
        "from oauth2client.client import GoogleCredentials\n",
        "\n",
        "from google.colab import drive\n",
        "drive.mount('/content/drive')\n",
        "%cd \"drive/MyDrive/Projects/Fourier\"\n",
        "!pip install import-ipynb\n",
        "import import_ipynb"
      ],
      "execution_count": 1,
      "outputs": [
        {
          "output_type": "stream",
          "text": [
            "Mounted at /content/drive\n",
            "/content/drive/MyDrive/Projects/Fourier\n",
            "Collecting import-ipynb\n",
            "  Downloading https://files.pythonhosted.org/packages/63/35/495e0021bfdcc924c7cdec4e9fbb87c88dd03b9b9b22419444dc370c8a45/import-ipynb-0.1.3.tar.gz\n",
            "Building wheels for collected packages: import-ipynb\n",
            "  Building wheel for import-ipynb (setup.py) ... \u001b[?25l\u001b[?25hdone\n",
            "  Created wheel for import-ipynb: filename=import_ipynb-0.1.3-cp37-none-any.whl size=2976 sha256=be3f9d46cb95832a7fcb579be3d210152d056eb7f8c24e67b0c0e8b1aab4b407\n",
            "  Stored in directory: /root/.cache/pip/wheels/b4/7b/e9/a3a6e496115dffdb4e3085d0ae39ffe8a814eacc44bbf494b5\n",
            "Successfully built import-ipynb\n",
            "Installing collected packages: import-ipynb\n",
            "Successfully installed import-ipynb-0.1.3\n"
          ],
          "name": "stdout"
        }
      ]
    },
    {
      "cell_type": "code",
      "metadata": {
        "id": "Pg-U8VI9MgKR",
        "colab": {
          "base_uri": "https://localhost:8080/"
        },
        "outputId": "a0df45d4-2ca9-4455-d322-a666cc84a955"
      },
      "source": [
        "import os\n",
        "import tensorflow as tf\n",
        "print(\"Tensorflow version: \" + tf.__version__)\n",
        "\n",
        "from tensorflow import keras\n",
        "from tensorflow.keras import layers\n",
        "from tensorflow.keras.utils import plot_model\n",
        "from pathlib import Path\n",
        "\n",
        "from utils import *"
      ],
      "execution_count": 2,
      "outputs": [
        {
          "output_type": "stream",
          "text": [
            "Tensorflow version: 2.4.1\n"
          ],
          "name": "stdout"
        }
      ]
    },
    {
      "cell_type": "code",
      "metadata": {
        "id": "XdAxWKZr9Umn"
      },
      "source": [
        "class UnitGaussianNormalizer:\n",
        "    def __init__(self, x, eps=0.00001):\n",
        "        super(UnitGaussianNormalizer, self).__init__()\n",
        "        self.mean = tf.math.reduce_mean(x, 0)\n",
        "        self.std = tf.math.reduce_std(x, 0)\n",
        "        self.eps = eps\n",
        "\n",
        "    def encode(self, x):\n",
        "        x = (x - self.mean) / (self.std + self.eps)\n",
        "        return x\n",
        "\n",
        "    def decode(self, x):\n",
        "        std = self.std + self.eps\n",
        "        mean = self.mean\n",
        "        x = (x * std) + mean\n",
        "        return x"
      ],
      "execution_count": 3,
      "outputs": []
    },
    {
      "cell_type": "code",
      "metadata": {
        "id": "p8IKhRIycrn3",
        "colab": {
          "base_uri": "https://localhost:8080/"
        },
        "outputId": "263587dc-73e9-4df5-cb04-eb05c3e5ec09"
      },
      "source": [
        "PROJECT_PATH = Path(os.path.abspath('')).parent.parent.resolve().__str__()\n",
        "TRAIN_PATH = PROJECT_PATH + '/Datasets/Fourier/piececonst_r241_N1024_smooth1.mat'\n",
        "TEST_PATH = PROJECT_PATH + '/Datasets/Fourier/piececonst_r241_N1024_smooth2.mat'\n",
        "\n",
        "N_TRAIN = 1000\n",
        "W = 49 #width\n",
        "FTS = 32 #features\n",
        "R = 5 #refinement\n",
        "MODES = 12\n",
        "\n",
        "# ...\n",
        "try:\n",
        "  if DATA_IS_LOADED:\n",
        "    print(\"Not reloading data!\")\n",
        "except:\n",
        "  reader = MatReader()\n",
        "  if reader.is_not_loaded():\n",
        "    reader.load_file(TRAIN_PATH)\n",
        "\n",
        "DATA_IS_LOADED = True\n",
        "# ...\n",
        "\n",
        "x_train = reader.read_field('coeff')[:N_TRAIN,::R,::R]\n",
        "y_train = reader.read_field('sol')[:N_TRAIN,::R,::R]\n",
        "\n",
        "S_ = x_train.shape[1]\n",
        "grids = []\n",
        "grids.append(np.linspace(0, 1, S_))\n",
        "grids.append(np.linspace(0, 1, S_))\n",
        "grid = np.vstack([xx.ravel() for xx in np.meshgrid(*grids)]).T\n",
        "grid = grid.reshape(1,S_,S_,2)\n",
        "\n",
        "print(x_train.shape)\n",
        "\n",
        "x_train = tf.convert_to_tensor(x_train, dtype=tf.float32)\n",
        "y_train = tf.convert_to_tensor(y_train, dtype=tf.float32)\n",
        "grid = tf.convert_to_tensor(grid, dtype=tf.float32)\n",
        "x_train = tf.expand_dims(x_train, axis=3)\n",
        "grid = tf.repeat(grid, repeats = N_TRAIN, axis = 0)\n",
        "x_train = tf.concat([x_train, grid], axis=3)\n",
        "y_train = tf.expand_dims(y_train, axis=3)\n",
        "\n",
        "x_normalizer = UnitGaussianNormalizer(x_train)\n",
        "x_train = x_normalizer.encode(x_train)\n",
        "\n",
        "y_normalizer = UnitGaussianNormalizer(y_train)\n",
        "y_train = y_normalizer.encode(y_train)\n",
        "\n",
        "print(\"x_train dims: \" + str(x_train.shape))\n",
        "print(\"y_train dims: \" + str(y_train.shape))"
      ],
      "execution_count": 4,
      "outputs": [
        {
          "output_type": "stream",
          "text": [
            "(1000, 49, 49)\n",
            "x_train dims: (1000, 49, 49, 3)\n",
            "y_train dims: (1000, 49, 49, 1)\n"
          ],
          "name": "stdout"
        }
      ]
    },
    {
      "cell_type": "code",
      "metadata": {
        "id": "-MQFoq1YRkyP"
      },
      "source": [
        "class FourierLayer(layers.Layer):\n",
        "    def __init__(self):\n",
        "        super(FourierLayer, self).__init__()  \n",
        "        self.weight_fft1 = tf.Variable(tf.random.uniform([FTS, FTS, MODES, MODES], minval=0, maxval=1),name=\"Wfft1\", trainable=True)\n",
        "        self.weight_fft2 = tf.Variable(tf.random.uniform([FTS, FTS, MODES, MODES], minval=0, maxval=1),name=\"Wfft2\", trainable=True)\n",
        "\n",
        "    def call(self, input, training=True):\n",
        "        weight_fft_complex = tf.complex(self.weight_fft1, self.weight_fft2)\n",
        "        x = input\n",
        "        x = keras.layers.Lambda(lambda v: tf.signal.rfft2d(v, tf.constant([49, 49])))(x)\n",
        "        x = x[:,:,:MODES, :MODES]\n",
        "        x = keras.layers.Lambda(lambda v: tf.einsum('ioxy,bixy->boxy', weight_fft_complex, v))(x)\n",
        "        x = keras.layers.Lambda(lambda v: tf.signal.irfft2d(v, tf.constant([49, 49])))(x)\n",
        "        return x"
      ],
      "execution_count": 5,
      "outputs": []
    },
    {
      "cell_type": "code",
      "metadata": {
        "id": "Km7v54ZzpczG"
      },
      "source": [
        "class FourierUnit(layers.Layer):\n",
        "    def __init__(self):\n",
        "        super(FourierUnit, self).__init__()\n",
        "        self.W = tf.keras.layers.Conv1D(W, 1)\n",
        "        self.fourier = FourierLayer()        \n",
        "        self.add = tf.keras.layers.Add()\n",
        "        self.bn = tf.keras.layers.BatchNormalization()\n",
        "\n",
        "    def call(self, input, training=True):\n",
        "        x = input\n",
        "        x1 = self.fourier(x)\n",
        "        x2 = self.W(x)\n",
        "        x = self.add([x1, x2])\n",
        "        x = self.bn(x)\n",
        "        return x"
      ],
      "execution_count": 6,
      "outputs": []
    },
    {
      "cell_type": "code",
      "metadata": {
        "id": "f75b5clwcDbC"
      },
      "source": [
        "class MyModel(keras.Model):\n",
        "    def __init__(self):\n",
        "        super(MyModel, self).__init__()\n",
        "        self.fc0 = tf.keras.layers.Dense(FTS)\n",
        "        self.perm_pre = tf.keras.layers.Permute((3, 1, 2))\n",
        "        \n",
        "        self.fourier_unit_1 = FourierUnit()\n",
        "        self.relu_1 = tf.keras.layers.ReLU()\n",
        "\n",
        "        self.fourier_unit_2 = FourierUnit()\n",
        "\n",
        "        self.relu = tf.keras.layers.ReLU()\n",
        "        self.perm_post = tf.keras.layers.Permute((2, 3, 1))\n",
        "        self.fc1 = tf.keras.layers.Dense(128)\n",
        "        self.relu2 = tf.keras.layers.ReLU()\n",
        "        self.fc2 = tf.keras.layers.Dense(1)\n",
        "\n",
        "    def call(self, input):\n",
        "        x = self.fc0(input)\n",
        "        x = self.perm_pre(x)\n",
        "        \n",
        "        x = self.fourier_unit_1(x)\n",
        "        x = self.relu_1(x)\n",
        "\n",
        "        x = self.fourier_unit_2(x)\n",
        "\n",
        "        x = self.perm_post(x)\n",
        "        x = self.fc1(x)\n",
        "        x = self.relu2(x)\n",
        "        x = self.fc2(x)\n",
        "        return x\n",
        "\n",
        "    def model(self):\n",
        "        x = keras.Input(shape=(W, W, 3))\n",
        "        return keras.Model(inputs=[x], outputs=self.call(x))"
      ],
      "execution_count": 7,
      "outputs": []
    },
    {
      "cell_type": "code",
      "metadata": {
        "id": "b34VyLimesac",
        "colab": {
          "base_uri": "https://localhost:8080/"
        },
        "outputId": "5d7139bf-5778-4894-a919-f58bd35f04b0"
      },
      "source": [
        "model = MyModel()\n",
        "mse = tf.keras.losses.MeanSquaredError()\n",
        "model.compile(\n",
        "    loss=mse,\n",
        "    optimizer=keras.optimizers.Adam(lr=3e-4),\n",
        "    metrics=[tf.keras.metrics.RootMeanSquaredError()],\n",
        ")\n",
        "model.fit(x_train, y_train, batch_size=64, epochs=2, verbose=2)\n",
        "model.model().summary()"
      ],
      "execution_count": 8,
      "outputs": [
        {
          "output_type": "stream",
          "text": [
            "Epoch 1/2\n",
            "16/16 - 36s - loss: 1.0500 - root_mean_squared_error: 1.0247\n",
            "Epoch 2/2\n",
            "16/16 - 1s - loss: 0.7540 - root_mean_squared_error: 0.8683\n",
            "Model: \"model\"\n",
            "_________________________________________________________________\n",
            "Layer (type)                 Output Shape              Param #   \n",
            "=================================================================\n",
            "input_1 (InputLayer)         [(None, 49, 49, 3)]       0         \n",
            "_________________________________________________________________\n",
            "dense (Dense)                (None, 49, 49, 32)        128       \n",
            "_________________________________________________________________\n",
            "permute (Permute)            (None, 32, 49, 49)        0         \n",
            "_________________________________________________________________\n",
            "fourier_unit (FourierUnit)   (None, 32, 49, 49)        297558    \n",
            "_________________________________________________________________\n",
            "re_lu (ReLU)                 (None, 32, 49, 49)        0         \n",
            "_________________________________________________________________\n",
            "fourier_unit_1 (FourierUnit) (None, 32, 49, 49)        297558    \n",
            "_________________________________________________________________\n",
            "permute_1 (Permute)          (None, 49, 49, 32)        0         \n",
            "_________________________________________________________________\n",
            "dense_1 (Dense)              (None, 49, 49, 128)       4224      \n",
            "_________________________________________________________________\n",
            "re_lu_2 (ReLU)               (None, 49, 49, 128)       0         \n",
            "_________________________________________________________________\n",
            "dense_2 (Dense)              (None, 49, 49, 1)         129       \n",
            "=================================================================\n",
            "Total params: 599,597\n",
            "Trainable params: 599,401\n",
            "Non-trainable params: 196\n",
            "_________________________________________________________________\n"
          ],
          "name": "stdout"
        }
      ]
    }
  ]
}